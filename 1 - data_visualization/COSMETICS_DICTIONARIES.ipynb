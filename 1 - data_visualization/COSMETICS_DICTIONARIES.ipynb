{
 "cells": [
  {
   "cell_type": "markdown",
   "metadata": {},
   "source": [
    "## COSMETICS DICTIONARIES\n",
    "Collection of dictionaries containing generally \"cosmetics\" information for different data/columns in the dataset"
   ]
  },
  {
   "cell_type": "code",
   "execution_count": 1,
   "metadata": {},
   "outputs": [],
   "source": [
    "import matplotlib.pyplot as plt"
   ]
  },
  {
   "cell_type": "markdown",
   "metadata": {},
   "source": [
    "### Define LITHOLOGY dictionary"
   ]
  },
  {
   "cell_type": "code",
   "execution_count": 2,
   "metadata": {},
   "outputs": [],
   "source": [
    "# litho dictionary: code:(name,(hex-color)\n",
    "litho_dict = {30000:('Sandstone'      , '#FFFF00'),\n",
    "              65000:('Shale'          , '#825000'),\n",
    "              65030:('Sandstone/Shale', '#FF7800'),\n",
    "              70000:('Limestone'      , '#00BEFF'),\n",
    "              70032:('Chalk'          , '#00FFFF'),\n",
    "              74000:('Dolomite'       , '#783CA0'),\n",
    "              80000:('Marl'           , '#006400'),\n",
    "              86000:('Anhydrite'      , '#C878C8'),\n",
    "              88000:('Halite'         , '#FFDCFF'),\n",
    "              90000:('Coal'           , '#000000'),\n",
    "              93000:('Basement'       , '#FF00FF'),\n",
    "              99000:('Tuff'           , '#32EBB9')\n",
    "             }"
   ]
  },
  {
   "cell_type": "markdown",
   "metadata": {},
   "source": [
    "### Define GROUP dictionary"
   ]
  },
  {
   "cell_type": "code",
   "execution_count": 3,
   "metadata": {},
   "outputs": [],
   "source": [
    "# stratigraphy dictionary: code:(name,(hex-color)\n",
    "group_dict = {1:('NORDLAND GP.'     , '#FFDE2D'),\n",
    "              2:('HORDALAND GP.'    , '#FDC692'),\n",
    "              3:('ROGALAND GP.'     , '#FCBC7E'),\n",
    "              4:('SHETLAND GP.'     , '#AFD46C'),\n",
    "              5:('CROMER KNOLL GP.' , '#94CC79'),\n",
    "              6:('VIKING GP.'       , '#C6EAFC'),\n",
    "              7:('TYNE GP.'         , '#AAE0FA'),\n",
    "              8:('BOKNFJORD GP.'    , '#91D8FA'),\n",
    "              9:('VESTLAND GP.'     , '#71CDEC'),\n",
    "              10:('DUNLIN GP.'      , '#00B5EC'),\n",
    "              11:('BAAT GP.'        , '#00B5EC'),\n",
    "              12:('HEGRE GP.'       , '#BC9ECA'),\n",
    "              13:('ZECHSTEIN GP.'   , '#F9B5A3'),\n",
    "              14:('ROTLIEGENDES GP.', '#E97863')\n",
    "              }"
   ]
  },
  {
   "cell_type": "markdown",
   "metadata": {},
   "source": [
    "### Define FORMATION dictionary"
   ]
  },
  {
   "cell_type": "code",
   "execution_count": 4,
   "metadata": {},
   "outputs": [],
   "source": [
    "# stratigraphy dictionary: code:(name,(hex-color)\n",
    "fm_dict = {1:('Utsira Fm.', '#DEE080'),\n",
    "           2:('Skade Fm.', '#DEE080'),\n",
    "           3:('Grid Mb.', '#DEE080'),\n",
    "           4:('Frigg Fm.', '#DEE080'),\n",
    "           5:('Balder Fm.', '#A5C56E'),\n",
    "           6:('Intra Balder Fm. Sst.', '#DEE080'),\n",
    "           7:('Sele Fm.', '#A5C56E'),\n",
    "           8:('Hermod Mb.', '#DEE080'),\n",
    "           9:('Lista Fm.', '#A5C56E'),\n",
    "           10:('Heimdal Fm.', '#DEE080'),\n",
    "           11:('Vaale Fm.', '#A5C56E'),\n",
    "           12:('Ty Fm.', '#DEE080'),\n",
    "           13:('Ekofisk Fm.', '#BEDCDA'),\n",
    "           14:('Tor Fm.', '#BEDCDA'),\n",
    "           15:('Jorsalfare Fm.', '#BEDCDA'),\n",
    "           16:('Hardraade Fm.', '#BEDCDA'),\n",
    "           17:('Hod Fm.', '#BEDCDA'),\n",
    "           18:('Kyrre Fm.', '#A5C56E'),\n",
    "           19:('Tryggvason Fm.', '#A5C56E'),\n",
    "           20:('Blodoeks Fm.', '#A5C56E'),\n",
    "           21:('Svarte Fm.', '#A5C56E'),\n",
    "           22:('Hidra Fm.', '#BEDCDA'),\n",
    "           23:('Agat Fm.', '#DEE080'),\n",
    "           24:('Mime Fm.', '#BEDCDA'),\n",
    "           25:('Roedby Fm.', '#A5C56E'),\n",
    "           26:('Sola Fm.', '#A5C56E'),\n",
    "           27:('Ran Sst Mb.', '#DEE080'),\n",
    "           28:('Aasgard Fm.', '#A5C56E'),\n",
    "           29:('Tuxen Fm.', '#A5C56E'),\n",
    "           30:('Mandal Fm.', '#A5C56E'),\n",
    "           31:('Flekkefjord Fm.', '#C2D48D'),\n",
    "           32:('Draupne Fm.', '#C2D48D'),\n",
    "           33:('Intra Draupne Fm. Sst.', '#DEE080'),\n",
    "           34:('Farsund Fm.', '#A5C56E'),\n",
    "           35:('Ula Fm.', '#DEE080'),\n",
    "           36:('Sauda Fm.', '#C2D48D'),\n",
    "           37:('Tau Fm.', '#C2D48D'),\n",
    "           38:('Egersund Fm.', '#C2D48D'),\n",
    "           39:('Sandnes Fm.', '#DEE080'),\n",
    "           40:('Hugin Fm.', '#DEE080'),\n",
    "           41:('Heather Fm.', '#C2D48D'),\n",
    "           42:('Intra Heather Fm. Sst.', '#DEE080'),\n",
    "           43:('Sognefjord Fm.', '#DEE080'),\n",
    "           44:('Fensfjord Fm.', '#DEE080'),\n",
    "           45:('Krossfjord Fm.', '#DEE080'),\n",
    "           46:('Bryne Fm.', '#FFF1A2'),\n",
    "           47:('Sleipner Fm.', '#FFF1A2'),\n",
    "           48:('Tarbert Fm.', '#DEE080'),\n",
    "           49:('Ness Fm.', '#FFF1A2'),\n",
    "           50:('Etive Fm.', '#DEE080'),\n",
    "           51:('Rannoch Fm.', '#DEE080'),\n",
    "           52:('Broom Fm.', '#DEE080'),\n",
    "           53:('Oseberg Fm.', '#DEE080'),\n",
    "           54:('Drake Fm.', '#C2D48D'),\n",
    "           55:('Cook Fm.', '#DEE080'),\n",
    "           56:('Burton Fm.', '#C2D48D'),\n",
    "           57:('Amundsen Fm.', '#C2D48D'),\n",
    "           58:('Johansen Fm.', '#DEE080'),\n",
    "           59:('Statfjord Fm.', '#DEE080'), # not sure about this one\n",
    "           63:('Eiriksson Mb.', '#F2CE93'),\n",
    "           64:('Raude Mb.', '#F2CE93'),\n",
    "           60:('Skagerrak Fm.', '#F2CE93'),\n",
    "           61:('Lunde Fm.', '#F2CE93'),\n",
    "           62:('Smith Bank Fm.', '#F7DD5A'),\n",
    "           65:('Kupferschiefer Fm.', '#A5C56E'),\n",
    "           66:('BASEMENT', '#CF635B'),\n",
    "          }"
   ]
  },
  {
   "cell_type": "markdown",
   "metadata": {},
   "source": [
    "### Define CONFIDENCE dictionary"
   ]
  },
  {
   "cell_type": "code",
   "execution_count": 5,
   "metadata": {},
   "outputs": [],
   "source": [
    "conf_dict = {1:('High confidence', '#BFFF80'),\n",
    "             2:('Medium confidence', '#FFD480'),\n",
    "             3:('Low confidence', '#FF8080')}"
   ]
  },
  {
   "cell_type": "markdown",
   "metadata": {},
   "source": [
    "### Create dictionary to remap Groups from Formations"
   ]
  },
  {
   "cell_type": "code",
   "execution_count": 6,
   "metadata": {},
   "outputs": [],
   "source": [
    "map_new_groups = {'Utsira Fm.':'NORDLAND GP.',\n",
    "                  'Skade Fm.':'HORDALAND GP.', \n",
    "                  'Grid Mb.':'HORDALAND GP.', \n",
    "                  'Frigg Fm.':'HORDALAND GP.', \n",
    "                  'Balder Fm.':'HORDALAND GP.', \n",
    "                  'Intra Balder Fm. Sst.':'HORDALAND GP.', \n",
    "                  'Sele Fm.':'ROGALAND GP.', \n",
    "                  'Hermod Mb.':'ROGALAND GP.', \n",
    "                  'Lista Fm.':'ROGALAND GP.', \n",
    "                  'Heimdal Fm.':'ROGALAND GP.', \n",
    "                  'Vaale Fm.':'ROGALAND GP.', \n",
    "                  'Ty Fm.':'ROGALAND GP.', \n",
    "                  'Ekofisk Fm.':'ROGALAND GP.', \n",
    "                  'Tor Fm.':'SHETLAND GP.', \n",
    "                  'Jorsalfare Fm.':'SHETLAND GP.', \n",
    "                  'Hardraade Fm.':'SHETLAND GP.', \n",
    "                  'Hod Fm.':'SHETLAND GP.', \n",
    "                  'Kyrre Fm.':'SHETLAND GP.', \n",
    "                  'Tryggvason Fm.':'SHETLAND GP.', \n",
    "                  'Blodoeks Fm.':'SHETLAND GP.', \n",
    "                  'Svarte Fm.':'SHETLAND GP.', \n",
    "                  'Hidra Fm.':'SHETLAND GP.', \n",
    "                  'Agat Fm.':'SHETLAND GP.', \n",
    "                  'Mime Fm.':'CROMER KNOLL GP.', \n",
    "                  'Roedby Fm.':'CROMER KNOLL GP.', \n",
    "                  'Sola Fm.':'CROMER KNOLL GP.', \n",
    "                  'Ran Sst Mb.':'CROMER KNOLL GP.', \n",
    "                  'Aasgard Fm.':'CROMER KNOLL GP.', \n",
    "                  'Tuxen Fm.':'CROMER KNOLL GP.', \n",
    "                  'Mandal Fm.':'VIKING GP.', \n",
    "                  'Flekkefjord Fm.':'VIKING GP.', \n",
    "                  'Draupne Fm.':'VESTLAND GP.', \n",
    "                  'Intra Draupne Fm. Sst.':'VESTLAND GP.', \n",
    "                  'Farsund Fm.':'VESTLAND GP.', \n",
    "                  'Ula Fm.':'VESTLAND GP.', \n",
    "                  'Sauda Fm.':'VESTLAND GP.', \n",
    "                  'Tau Fm.':'VESTLAND GP.', \n",
    "                  'Egersund Fm.':'VESTLAND GP.', \n",
    "                  'Sandnes Fm.':'VESTLAND GP.', \n",
    "                  'Hugin Fm.':'VESTLAND GP.', \n",
    "                  'Heather Fm.':'VESTLAND GP.', \n",
    "                  'Intra Heather Fm. Sst.':'VESTLAND GP.', \n",
    "                  'Sognefjord Fm.':'VESTLAND GP.', \n",
    "                  'Fensfjord Fm.':'VESTLAND GP.', \n",
    "                  'Krossfjord Fm.':'VESTLAND GP.', \n",
    "                  'Bryne Fm.':'VESTLAND GP.', \n",
    "                  'Sleipner Fm.':'VESTLAND GP.', \n",
    "                  'Tarbert Fm.':'VESTLAND GP.', \n",
    "                  'Ness Fm.':'VESTLAND GP.', \n",
    "                  'Etive Fm.':'DUNLIN GP.', \n",
    "                  'Rannoch Fm.':'DUNLIN GP.', \n",
    "                  'Broom Fm.':'DUNLIN GP.', \n",
    "                  'Oseberg Fm.':'DUNLIN GP.', \n",
    "                  'Drake Fm.':'DUNLIN GP.', \n",
    "                  'Cook Fm.':'DUNLIN GP.', \n",
    "                  'Burton Fm.':'DUNLIN GP.', \n",
    "                  'Amundsen Fm.':'DUNLIN GP.', \n",
    "                  'Johansen Fm.':'DUNLIN GP.', \n",
    "                  'Statfjord Fm.':'HEGRE GP.', \n",
    "                  'Skagerrak Fm.':'HEGRE GP.', \n",
    "                  'Lunde Fm.':'HEGRE GP.', \n",
    "                  'Smith Bank Fm.':'HEGRE GP.', \n",
    "                  'Eiriksson Mb.':'HEGRE GP.', \n",
    "                  'Raude Mb.':'HEGRE GP.', \n",
    "                  'Kupferschiefer Fm.':'ZECHSTEIN GP.', \n",
    "                  'BASEMENT':'not stratigraphic', \n",
    "                  }"
   ]
  },
  {
   "cell_type": "markdown",
   "metadata": {},
   "source": [
    "### Define LOGS dictionary"
   ]
  },
  {
   "cell_type": "code",
   "execution_count": 7,
   "metadata": {},
   "outputs": [],
   "source": [
    "# log cosmetics dictionary: log:(min-scale, max-scale, colour, linestyle, scale (lin/log), track). Example:\n",
    "#    - log:       'GR'\n",
    "#    - min-scale:  0 (integer or float)\n",
    "#    - max-scale:  150 (integer or float)\n",
    "#    - color:     '#004D00' (hexcolor passed as string)\n",
    "#    - linestyle: '--' (as per matplotlib, passed as string)\n",
    "#    - scale:     'linear' or 'log' (as per matplotlib)\n",
    "#    - track:      0 (integer!). should start with 0\n",
    "\n",
    "log_dict={'MUDWEIGHT':(   0,      2     , '#784600', '--', 'linear',0),\n",
    "          'ROPA':     (   0,    150     , '#00FF00', ':',  'linear',0),\n",
    "          'ROP':      (   0,    150     , '#000000', ':',  'linear',0),\n",
    "          'CALI':     (   6,     16     , '#969696', '-',  'linear',1),\n",
    "          'BS':       (   6,     16     , '#000000', '--', 'linear',1),\n",
    "          'DCAL':     (  -5,      5     , '#784600', ':',  'linear',1),\n",
    "          'GR':       (   0,    150     , '#004D00', '-',  'linear',2),\n",
    "          'SGR':      (   0,    150     , '#64C864', '-',  'linear',2),\n",
    "          'SP':       (None,   None     , '#64E6FF', '--', 'linear',2),\n",
    "          'NPHI':     (   0.60,  -0.15  , '#0000FF', '-',  'linear',3),          \n",
    "          'RHOB':     (    1.7,   2.95  , '#FF0000', '-',  'linear',3),\n",
    "          'DRHO':     (  -0.75,   0.25  , '#784600', ':',  'linear',3),\n",
    "          'PEF':      (   0,     10     , '#FF64FF', '-',  'linear',4),\n",
    "          'DTC':      ( 140,     40     , '#FF0000', '-',  'linear',5),\n",
    "          'DTS':      ( 400,     40     , '#B464FF', '-',  'linear',5),\n",
    "          'RMIC':     (   0.2, 2000     , '#000000', '-',  'log',   6),\n",
    "          'RXO':      (   0.2, 2000     , '#32FA96', '-',  'log',   6),\n",
    "          'RSHA':     (   0.2, 2000     , '#FF0000', ':',  'log',   6),\n",
    "          'RMED':     (   0.2, 2000     , '#00FF00', '-',  'log',   6),\n",
    "          'RDEP':     (   0.2, 2000     , '#0000FF', '--', 'log',   6)}"
   ]
  },
  {
   "cell_type": "markdown",
   "metadata": {},
   "source": [
    "### Define LOG_SHADING dictionary"
   ]
  },
  {
   "cell_type": "code",
   "execution_count": 8,
   "metadata": {},
   "outputs": [],
   "source": [
    "# dictionary containing info between which logs shading is required: \n",
    "# \"left (log/value) boundary\":(\"right (log/value) boundary\", \"hexcolor\")\n",
    "# constants instead of logs can be used, but not for both left and right hand side\n",
    "log_shading_dict = {'NPHI':('RHOB','#825000'), # shale \n",
    "                    'RHOB':('NPHI','#FFFF00'), # light hydrocarbon \n",
    "                    'BS':('CALI','#FF0000'),   # wash-out\n",
    "                    'CALI':('BS','#F9C866'),   # mud cake\n",
    "                    'GR':(100,'#FFDE00'),      # ∼net/clean sand\n",
    "                    0:('GR','#825000')}        # shale indicator"
   ]
  },
  {
   "cell_type": "markdown",
   "metadata": {},
   "source": [
    "### Create a high contrast colours dictionary for  ORMATIONS to make it easier to see whether lithologies are predicted correctly"
   ]
  },
  {
   "cell_type": "code",
   "execution_count": 9,
   "metadata": {},
   "outputs": [
    {
     "data": {
      "text/plain": [
       "['#C2D48D',\n",
       " '#FFF1A2',\n",
       " '#BEDCDA',\n",
       " '#A5C56E',\n",
       " '#CF635B',\n",
       " '#F7DD5A',\n",
       " '#DEE080',\n",
       " '#F2CE93']"
      ]
     },
     "execution_count": 9,
     "metadata": {},
     "output_type": "execute_result"
    }
   ],
   "source": [
    "# create a new, more pronounced colourscheme for Formations. Get all unique hex-codes from the dictionary:\n",
    "list(set([v[1] for v in fm_dict.values()]))"
   ]
  },
  {
   "cell_type": "code",
   "execution_count": 10,
   "metadata": {},
   "outputs": [],
   "source": [
    "# create a conversion dictionary\n",
    "high_constrast_fm_colours = {'#CF635B':'#CF635B', # basement\n",
    "                             '#BEDCDA':'#00CCFF', # chalk/limestones\n",
    "                             '#DEE080':'#FFFF00', # sandstone\n",
    "                             '#F7DD5A':'#FFFF00', # sandstone\n",
    "                             '#C2D48D':'#009900', # shale\n",
    "                             '#A5C56E':'#009900', # shale\n",
    "                             '#FFF1A2':'#FFFF00', # sandstone\n",
    "                             '#F2CE93':'#FF6600'} # odler sandstone"
   ]
  },
  {
   "cell_type": "code",
   "execution_count": 11,
   "metadata": {},
   "outputs": [],
   "source": [
    "# create high contrast fm_dict\n",
    "high_constrast_fm_dict = {i[0]:(i[1][0], high_constrast_fm_colours[i[1][1]]) for i in fm_dict.items()}"
   ]
  }
 ],
 "metadata": {
  "kernelspec": {
   "display_name": "Python 3",
   "language": "python",
   "name": "python3"
  },
  "language_info": {
   "codemirror_mode": {
    "name": "ipython",
    "version": 3
   },
   "file_extension": ".py",
   "mimetype": "text/x-python",
   "name": "python",
   "nbconvert_exporter": "python",
   "pygments_lexer": "ipython3",
   "version": "3.8.2"
  }
 },
 "nbformat": 4,
 "nbformat_minor": 4
}
