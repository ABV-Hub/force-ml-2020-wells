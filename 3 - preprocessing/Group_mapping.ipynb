{
 "cells": [
  {
   "cell_type": "markdown",
   "metadata": {},
   "source": [
    "# Group mapping"
   ]
  },
  {
   "cell_type": "markdown",
   "metadata": {},
   "source": [
    "### Goal: to create a more consistent GROUP feature"
   ]
  },
  {
   "cell_type": "code",
   "execution_count": 7,
   "metadata": {},
   "outputs": [
    {
     "data": {
      "text/plain": [
       "True"
      ]
     },
     "execution_count": 7,
     "metadata": {},
     "output_type": "execute_result"
    }
   ],
   "source": [
    "import numpy as np\n",
    "import pandas as pd\n",
    "import os\n",
    "from dotenv import load_dotenv\n",
    "load_dotenv()"
   ]
  },
  {
   "cell_type": "code",
   "execution_count": 4,
   "metadata": {},
   "outputs": [],
   "source": [
    "data_path = os.environ.get(\"DATA_PATH\")\n",
    "df_train = pd.read_csv(data_path+\"/train.csv\", sep=';')"
   ]
  },
  {
   "cell_type": "markdown",
   "metadata": {},
   "source": [
    "### Group mapping"
   ]
  },
  {
   "cell_type": "code",
   "execution_count": 6,
   "metadata": {},
   "outputs": [],
   "source": [
    "group_mapper = {'Utsira Fm.':'NORDLAND GP.',\n",
    "\n",
    " 'Skade Fm.':'HORDALAND GP.',\n",
    "\n",
    " 'Grid Mb.':'HORDALAND GP.',\n",
    "\n",
    " 'Frigg Fm.':'HORDALAND GP.',\n",
    "\n",
    " 'Balder Fm.':'HORDALAND GP.',\n",
    "\n",
    " 'Intra Balder Fm. Sst.':'HORDALAND GP.',\n",
    "\n",
    " 'Sele Fm.':'ROGALAND GP.',\n",
    "\n",
    " 'Hermod Mb.':'ROGALAND GP.',\n",
    "\n",
    " 'Lista Fm.':'ROGALAND GP.',\n",
    "\n",
    " 'Heimdal Fm.':'ROGALAND GP.',\n",
    "\n",
    " 'Vaale Fm.':'ROGALAND GP.',\n",
    "\n",
    " 'Ty Fm.':'ROGALAND GP.',\n",
    "\n",
    " 'Ekofisk Fm.':'ROGALAND GP.',\n",
    "\n",
    " 'Tor Fm.':'SHETLAND GP.',\n",
    "\n",
    " 'Jorsalfare Fm.':'SHETLAND GP.',\n",
    "\n",
    " 'Hardraade Fm.':'SHETLAND GP.',\n",
    "\n",
    " 'Hod Fm.':'SHETLAND GP.',\n",
    "\n",
    " 'Kyrre Fm.':'SHETLAND GP.',\n",
    "\n",
    " 'Tryggvason Fm.':'SHETLAND GP.',\n",
    "\n",
    " 'Blodoeks Fm.':'SHETLAND GP.',\n",
    "\n",
    " 'Svarte Fm.':'SHETLAND GP.',\n",
    "\n",
    " 'Hidra Fm.':'SHETLAND GP.',\n",
    "\n",
    " 'Agat Fm.':'SHETLAND GP.',\n",
    "\n",
    " 'Mime Fm.':'CROMER KNOLL GP.',\n",
    "\n",
    " 'Roedby Fm.':'CROMER KNOLL GP.',\n",
    "\n",
    " 'Sola Fm.':'CROMER KNOLL GP.',\n",
    "\n",
    " 'Ran Sst Mb.':'CROMER KNOLL GP.',\n",
    "\n",
    " 'Aasgard Fm.':'CROMER KNOLL GP.',\n",
    "\n",
    " 'Tuxen Fm.':'CROMER KNOLL GP.',\n",
    "\n",
    " 'Mandal Fm.':'VIKING GP.',\n",
    "\n",
    " 'Flekkefjord Fm.':'VIKING GP.',\n",
    "\n",
    " 'Draupne Fm.':'VESTLAND GP.',\n",
    "\n",
    " 'Intra Draupne Fm. Sst.':'VESTLAND GP.',\n",
    "\n",
    " 'Farsund Fm.':'VESTLAND GP.',\n",
    "\n",
    " 'Ula Fm.':'VESTLAND GP.',\n",
    "\n",
    " 'Sauda Fm.':'VESTLAND GP.',\n",
    "\n",
    " 'Tau Fm.':'VESTLAND GP.',\n",
    "\n",
    " 'Egersund Fm.':'VESTLAND GP.',\n",
    "\n",
    " 'Sandnes Fm.':'VESTLAND GP.',\n",
    "\n",
    " 'Hugin Fm.':'VESTLAND GP.',\n",
    "\n",
    " 'Heather Fm.':'VESTLAND GP.',\n",
    "\n",
    " 'Intra Heather Fm. Sst.':'VESTLAND GP.',\n",
    "\n",
    " 'Sognefjord Fm.':'VESTLAND GP.',\n",
    "\n",
    " 'Fensfjord Fm.':'VESTLAND GP.',\n",
    "\n",
    " 'Krossfjord Fm.':'VESTLAND GP.',\n",
    "\n",
    " 'Bryne Fm.':'VESTLAND GP.',\n",
    "\n",
    " 'Sleipner Fm.':'VESTLAND GP.',\n",
    "\n",
    " 'Tarbert Fm.':'VESTLAND GP.',\n",
    "\n",
    " 'Ness Fm.':'VESTLAND GP.',\n",
    "\n",
    " 'Etive Fm.':'DUNLIN GP.',\n",
    "\n",
    " 'Rannoch Fm.':'DUNLIN GP.',\n",
    "\n",
    " 'Broom Fm.':'DUNLIN GP.',\n",
    "\n",
    " 'Oseberg Fm.':'DUNLIN GP.',\n",
    "\n",
    " 'Drake Fm.':'DUNLIN GP.',\n",
    "\n",
    " 'Cook Fm.':'DUNLIN GP.',\n",
    "\n",
    " 'Burton Fm.':'DUNLIN GP.',\n",
    "\n",
    " 'Amundsen Fm.':'DUNLIN GP.',\n",
    "\n",
    " 'Johansen Fm.':'DUNLIN GP.',\n",
    "\n",
    " 'Statfjord Fm.':'HEGRE GP.',\n",
    "\n",
    " 'Skagerrak Fm.':'HEGRE GP.',\n",
    "\n",
    " 'Lunde Fm.':'HEGRE GP.',\n",
    "\n",
    " 'Smith Bank Fm.':'HEGRE GP.',\n",
    "\n",
    " 'Eiriksson Mb.':'HEGRE GP.',\n",
    "\n",
    " 'Raude Mb.':'HEGRE GP.',\n",
    "\n",
    " 'Kupferschiefer Fm.':'ZECHSTEIN GP.',\n",
    "\n",
    " 'BASEMENT':'not stratigraphic',\n",
    "\n",
    " }"
   ]
  },
  {
   "cell_type": "code",
   "execution_count": 8,
   "metadata": {},
   "outputs": [],
   "source": [
    "df_train['NEW GROUP'] = [group_mapper[fm] if group_mapper.get(fm) is not None else np.nan for fm in df_train.FORMATION]"
   ]
  },
  {
   "cell_type": "markdown",
   "metadata": {},
   "source": [
    "### Reversed dictionary"
   ]
  },
  {
   "cell_type": "code",
   "execution_count": 9,
   "metadata": {},
   "outputs": [
    {
     "name": "stdout",
     "output_type": "stream",
     "text": [
      "{'NORDLAND GP.': ['Utsira Fm.'], 'HORDALAND GP.': ['Skade Fm.', 'Grid Mb.', 'Frigg Fm.', 'Balder Fm.', 'Intra Balder Fm. Sst.'], 'ROGALAND GP.': ['Sele Fm.', 'Hermod Mb.', 'Lista Fm.', 'Heimdal Fm.', 'Vaale Fm.', 'Ty Fm.', 'Ekofisk Fm.'], 'SHETLAND GP.': ['Tor Fm.', 'Jorsalfare Fm.', 'Hardraade Fm.', 'Hod Fm.', 'Kyrre Fm.', 'Tryggvason Fm.', 'Blodoeks Fm.', 'Svarte Fm.', 'Hidra Fm.', 'Agat Fm.'], 'CROMER KNOLL GP.': ['Mime Fm.', 'Roedby Fm.', 'Sola Fm.', 'Ran Sst Mb.', 'Aasgard Fm.', 'Tuxen Fm.'], 'VIKING GP.': ['Mandal Fm.', 'Flekkefjord Fm.'], 'VESTLAND GP.': ['Draupne Fm.', 'Intra Draupne Fm. Sst.', 'Farsund Fm.', 'Ula Fm.', 'Sauda Fm.', 'Tau Fm.', 'Egersund Fm.', 'Sandnes Fm.', 'Hugin Fm.', 'Heather Fm.', 'Intra Heather Fm. Sst.', 'Sognefjord Fm.', 'Fensfjord Fm.', 'Krossfjord Fm.', 'Bryne Fm.', 'Sleipner Fm.', 'Tarbert Fm.', 'Ness Fm.'], 'DUNLIN GP.': ['Etive Fm.', 'Rannoch Fm.', 'Broom Fm.', 'Oseberg Fm.', 'Drake Fm.', 'Cook Fm.', 'Burton Fm.', 'Amundsen Fm.', 'Johansen Fm.'], 'HEGRE GP.': ['Statfjord Fm.', 'Skagerrak Fm.', 'Lunde Fm.', 'Smith Bank Fm.', 'Eiriksson Mb.', 'Raude Mb.'], 'ZECHSTEIN GP.': ['Kupferschiefer Fm.'], 'not stratigraphic': ['BASEMENT']}\n"
     ]
    }
   ],
   "source": [
    "d = {}\n",
    "for i, v in group_mapper.items():\n",
    "    d[v] = [i] if v not in d.keys() else d[v] + [i]\n",
    "print(d)"
   ]
  }
 ],
 "metadata": {
  "kernelspec": {
   "display_name": "analytics",
   "language": "python",
   "name": "analytics"
  },
  "language_info": {
   "codemirror_mode": {
    "name": "ipython",
    "version": 3
   },
   "file_extension": ".py",
   "mimetype": "text/x-python",
   "name": "python",
   "nbconvert_exporter": "python",
   "pygments_lexer": "ipython3",
   "version": "3.7.4"
  }
 },
 "nbformat": 4,
 "nbformat_minor": 4
}
