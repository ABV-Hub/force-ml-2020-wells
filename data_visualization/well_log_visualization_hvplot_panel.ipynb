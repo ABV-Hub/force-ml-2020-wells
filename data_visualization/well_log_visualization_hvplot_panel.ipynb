{
 "cells": [
  {
   "cell_type": "markdown",
   "metadata": {},
   "source": [
    "# Well Log Visualization with hvplot and panel"
   ]
  },
  {
   "cell_type": "markdown",
   "metadata": {},
   "source": [
    "#### Acknowledgments: [Ashley Russell - Transform 2020](https://github.com/aruss175/transform_2020_intro_viz/tree/master/notebooks)"
   ]
  },
  {
   "cell_type": "markdown",
   "metadata": {},
   "source": [
    "### Import packages and extensions"
   ]
  },
  {
   "cell_type": "code",
   "execution_count": null,
   "metadata": {},
   "outputs": [],
   "source": [
    "!pip install plotly_express\n",
    "!pip install --upgrade hvplot\n",
    "!pip install --upgrade bokeh\n",
    "!pip install --upgrade holoviews\n",
    "!pip install lasio\n",
    "!pip install -U ipykernel\n",
    "!pip install --upgrade panel"
   ]
  },
  {
   "cell_type": "code",
   "execution_count": null,
   "metadata": {},
   "outputs": [],
   "source": [
    "import pandas as pd\n",
    "import lasio as ls\n",
    "import numpy as np\n",
    "import plotly_express as px\n",
    "import hvplot\n",
    "import hvplot.pandas\n",
    "import holoviews as hv\n",
    "import panel as pn\n",
    "from dotenv import load_dotenv\n",
    "import os\n",
    "load_dotenv()"
   ]
  },
  {
   "cell_type": "code",
   "execution_count": null,
   "metadata": {},
   "outputs": [],
   "source": [
    "hv.extension('bokeh')\n",
    "pn.extension()"
   ]
  },
  {
   "cell_type": "markdown",
   "metadata": {},
   "source": [
    "### Jupyter Notebook display"
   ]
  },
  {
   "cell_type": "code",
   "execution_count": null,
   "metadata": {},
   "outputs": [],
   "source": [
    "from IPython.display import display, HTML\n",
    "\n",
    "display(HTML(data=\"\"\"\n",
    "<style>\n",
    "    div#notebook-container    { width: 95%; }\n",
    "    div#menubar-container     { width: 65%; }\n",
    "    div#maintoolbar-container { width: 60%; }\n",
    "</style>\n",
    "\"\"\"))\n",
    "\n",
    "%matplotlib inline"
   ]
  },
  {
   "cell_type": "markdown",
   "metadata": {},
   "source": [
    "### Loading data from local drive"
   ]
  },
  {
   "cell_type": "code",
   "execution_count": null,
   "metadata": {},
   "outputs": [],
   "source": [
    "data_path = os.environ.get(\"DATA_PATH\")\n",
    "df_train = pd.read_csv(data_path+\"/train.csv\", sep=';')"
   ]
  },
  {
   "cell_type": "code",
   "execution_count": null,
   "metadata": {},
   "outputs": [],
   "source": [
    "wells = df_train['WELL'].unique()"
   ]
  },
  {
   "cell_type": "markdown",
   "metadata": {},
   "source": [
    "### Colors"
   ]
  },
  {
   "cell_type": "code",
   "execution_count": null,
   "metadata": {},
   "outputs": [],
   "source": [
    "litho_codes = [30000, 65000, 65030, 70000, 70032, 74000, 80000, 86000, 88000, 90000, 93000, 99000]\n",
    "litho_names = ['Sandstone', 'Shale', 'Sandstone/Shale', 'Limestone', 'Chalk', 'Dolomite', 'Marl', 'Anhydrite', 'Halite', 'Coal', 'Basement', 'Tuff']\n",
    "litho_dict = dict(zip(litho_codes, litho_names))\n",
    "category_colors = {'Sandstone':'#FFFF00', 'Shale':'#825000', 'Sandstone/Shale':'#FF7800',\n",
    "                   'Limestone':'#00BEFF', 'Chalk':'#00FFFF', 'Dolomite':'#783CA0',\n",
    "                   'Marl':'#006400', 'Anhydrite':'#C878C8', 'Halite':'#FFDCFF',\n",
    "                   'Coal':'#000000', 'Basement':'#FF00FF', 'Tuff':'#32EBB9'}\n",
    "category_colors_codes = {'30000':'#FFFF00', '65000':'#825000', '65030':'#FF7800',\n",
    "                   '70000':'#00BEFF', '70032':'#00FFFF', '74000':'#783CA0',\n",
    "                   '80000':'#006400', '86000':'#C878C8', '88000':'#FFDCFF',\n",
    "                   '90000':'#000000', '93000':'#FF00FF', '99000':'#32EBB9'}"
   ]
  },
  {
   "cell_type": "code",
   "execution_count": null,
   "metadata": {},
   "outputs": [],
   "source": [
    "df_train['LITHOLOGY'] = df_train['FORCE_2020_LITHOFACIES_LITHOLOGY']\n",
    "df_train = df_train.replace({'LITHOLOGY' : litho_dict})"
   ]
  },
  {
   "cell_type": "markdown",
   "metadata": {},
   "source": [
    "### Visualization"
   ]
  },
  {
   "cell_type": "code",
   "execution_count": null,
   "metadata": {},
   "outputs": [],
   "source": [
    "from holoviews.plotting.links import DataLink\n",
    "from holoviews import opts\n",
    "\n",
    "scatter = df_train.hvplot.scatter(x='DEPTH_MD', y='GR', groupby=\"WELL\", color='LITHOLOGY', invert=True, flip_yaxis=True, height=1000, width=500).opts(fontsize={'labels': 16,'xticks': 14, 'yticks': 14}, \n",
    "                                                                                                                      xlabel='DEPTH (m)', ylabel='GR').opts(color='LITHOLOGY', cmap=category_colors)\n",
    "\n",
    "table = df_train.hvplot.table(columns=['DEPTH_MD','GR', 'LITHOLOGY'], groupby=\"WELL\").opts(height=700)\n",
    "\n",
    "line = df_train.hvplot(x='DEPTH_MD', y='GR', groupby=\"WELL\", invert=True, flip_yaxis=True, height=1000, width=400).opts(fontsize={'labels': 16,'xticks': 14, 'yticks': 14}, \n",
    "                                                                                                                                      xlabel='DEPTH (m)', ylabel='GR')\n",
    "\n",
    "dlink = DataLink(scatter, table)\n",
    "dlink2 = DataLink(scatter, line)\n",
    "\n",
    "layout = (scatter + line + table).opts(opts.Scatter(tools=['box_select', 'lasso_select']))\n",
    "hv.output(layout, widget_location='top')"
   ]
  },
  {
   "cell_type": "code",
   "execution_count": null,
   "metadata": {},
   "outputs": [],
   "source": [
    "from holoviews.plotting.links import DataLink\n",
    "from holoviews import opts\n",
    "\n",
    "scatter = df_train.hvplot.scatter(x='DEPTH_MD', y='GR', groupby=[\"WELL\", \"GROUP\"], color='LITHOLOGY', invert=True, flip_yaxis=True, height=1000, width=500).opts(fontsize={'labels': 16,'xticks': 14, 'yticks': 14}, \n",
    "                                                                                                                      xlabel='DEPTH (m)', ylabel='GR').opts(color='LITHOLOGY', cmap=category_colors)\n",
    "table = df_train.hvplot.table(columns=['DEPTH_MD','GR', 'LITHOLOGY'], groupby=[\"WELL\", \"GROUP\"]).opts(height=700)\n",
    "\n",
    "line = df_train.hvplot(x='DEPTH_MD', y='GR', groupby=[\"WELL\", \"GROUP\"], invert=True, flip_yaxis=True, height=1000, width=400).opts(fontsize={'labels': 16,'xticks': 14, 'yticks': 14}, \n",
    "                                                                                                                                      xlabel='DEPTH (m)', ylabel='GR')\n",
    "\n",
    "\n",
    "dlink = DataLink(scatter, table)\n",
    "dlink2 = DataLink(scatter, line)\n",
    "\n",
    "layout = (scatter + line + table).opts(opts.Scatter(tools=['box_select', 'lasso_select']))\n",
    "hv.output(layout, widget_location='top')"
   ]
  },
  {
   "cell_type": "code",
   "execution_count": null,
   "metadata": {},
   "outputs": [],
   "source": [
    "from holoviews.plotting.links import DataLink\n",
    "from holoviews import opts\n",
    "\n",
    "scatter = df_train.hvplot.scatter(x='DEPTH_MD', y='GR', groupby=[\"WELL\", \"FORMATION\"], color='LITHOLOGY', invert=True, flip_yaxis=True, height=1000, width=500).opts(fontsize={'labels': 16,'xticks': 14, 'yticks': 14}, \n",
    "                                                                                                                      xlabel='DEPTH (m)', ylabel='GR').opts(color='LITHOLOGY', cmap=category_colors)\n",
    "table = df_train.hvplot.table(columns=['DEPTH_MD','GR', 'LITHOLOGY'], groupby=[\"WELL\", \"FORMATION\"]).opts(height=700)\n",
    "\n",
    "line = df_train.hvplot(x='DEPTH_MD', y='GR', groupby=[\"WELL\", \"FORMATION\"], invert=True, flip_yaxis=True, height=1000, width=400).opts(fontsize={'labels': 16,'xticks': 14, 'yticks': 14}, \n",
    "                                                                                                                                      xlabel='DEPTH (m)', ylabel='GR')\n",
    "\n",
    "dlink = DataLink(scatter, table)\n",
    "dlink2 = DataLink(scatter, line)\n",
    "\n",
    "layout = (scatter + line + table).opts(opts.Scatter(tools=['box_select', 'lasso_select']))\n",
    "hv.output(layout, widget_location='top')"
   ]
  },
  {
   "cell_type": "code",
   "execution_count": null,
   "metadata": {},
   "outputs": [],
   "source": [
    "df_train.hvplot.hist('GR', groupby='WELL')"
   ]
  },
  {
   "cell_type": "code",
   "execution_count": null,
   "metadata": {},
   "outputs": [],
   "source": [
    "def getnumeric(df, depthcurvename):\n",
    "    curve_list=list(df.columns[(df.dtypes.values == np.dtype('float64'))])\n",
    "    curve_list.remove(depthcurvename)\n",
    "    return curve_list"
   ]
  },
  {
   "cell_type": "code",
   "execution_count": null,
   "metadata": {},
   "outputs": [],
   "source": [
    "curve_list = getnumeric(df_train.drop(columns=['X_LOC', 'Y_LOC', 'Z_LOC', 'FORCE_2020_LITHOFACIES_LITHOLOGY', 'FORCE_2020_LITHOFACIES_CONFIDENCE', 'LITHOLOGY', 'BS', 'RSHA', 'SGR', 'DRHO', 'DTS', 'DCAL', 'RMIC', 'ROPA', 'RXO', 'MUDWEIGHT']), 'DEPTH_MD')\n",
    "\n",
    "def curve_plot(log, df, depthname):\n",
    "    aplot = df.hvplot.scatter(x=depthname, y=log, groupby='WELL', color='LITHOLOGY', invert=True, flip_yaxis=True, shared_axes=True,\n",
    "                       height=700, width=250, legend = False).opts(fontsize={'labels': 12,'xticks': 10, 'yticks': 10}).opts(color='LITHOLOGY', cmap=category_colors)\n",
    "    return aplot\n",
    "\n",
    "plotlist = [curve_plot(x, df=df_train, depthname='DEPTH_MD') for x in curve_list]\n",
    "well_section = hv.Layout(plotlist).cols(len(curve_list))\n",
    "hv.output(well_section, widget_location='top')"
   ]
  },
  {
   "cell_type": "markdown",
   "metadata": {},
   "source": [
    "### END"
   ]
  }
 ],
 "metadata": {
  "kernelspec": {
   "display_name": "analytics",
   "language": "python",
   "name": "analytics"
  },
  "language_info": {
   "codemirror_mode": {
    "name": "ipython",
    "version": 3
   },
   "file_extension": ".py",
   "mimetype": "text/x-python",
   "name": "python",
   "nbconvert_exporter": "python",
   "pygments_lexer": "ipython3",
   "version": "3.7.4"
  }
 },
 "nbformat": 4,
 "nbformat_minor": 4
}
