{
 "cells": [
  {
   "cell_type": "markdown",
   "metadata": {},
   "source": [
    "# Map view with Dash"
   ]
  },
  {
   "cell_type": "markdown",
   "metadata": {},
   "source": [
    "## Reference: [Brendon Hall](https://github.com/brendonhall/FORCE-2020-Lithology/blob/master/notebooks/03-Map-Dash.ipynb)"
   ]
  },
  {
   "cell_type": "code",
   "execution_count": null,
   "metadata": {},
   "outputs": [],
   "source": [
    "import os.path\n",
    "import numpy as np\n",
    "import pandas as pd\n",
    "import plotly.express as px\n",
    "from jupyter_dash import JupyterDash\n",
    "import dash_core_components as dcc\n",
    "import dash_html_components as html\n",
    "from dash.dependencies import Input, Output\n",
    "pd.options.display.max_rows = 8\n",
    "import matplotlib.pyplot as plt\n",
    "from dotenv import load_dotenv\n",
    "import os\n",
    "load_dotenv()"
   ]
  },
  {
   "cell_type": "code",
   "execution_count": null,
   "metadata": {},
   "outputs": [],
   "source": [
    "data_path = os.environ.get(\"DATA_PATH\")"
   ]
  },
  {
   "cell_type": "code",
   "execution_count": null,
   "metadata": {},
   "outputs": [],
   "source": [
    "locations_df = pd.read_csv(data_path+'/force_2020_meta.csv')"
   ]
  },
  {
   "cell_type": "code",
   "execution_count": null,
   "metadata": {},
   "outputs": [],
   "source": [
    "train_df = pd.read_csv(data_path+'/train.csv', sep=';')\n",
    "\n",
    "test_df = pd.read_csv(data_path+'/test.csv', sep=';')\n",
    "\n",
    "well_data_df = pd.concat([train_df, test_df])"
   ]
  },
  {
   "cell_type": "code",
   "execution_count": null,
   "metadata": {},
   "outputs": [],
   "source": [
    "curves = ['FORMATION', 'CALI', 'RSHA', 'RMED', 'RDEP', 'RHOB', 'GR', 'SGR',\n",
    "          'NPHI', 'PEF', 'DTC', 'SP', 'BS', 'ROP', 'DTS', 'DCAL', 'DRHO',\n",
    "          'MUDWEIGHT', 'RMIC', 'ROPA', 'RXO']\n",
    "\n",
    "def well_has_curve(row, data_df, curve):\n",
    "    well_name = row['WELL']\n",
    "    return not data_df.loc[data_df['WELL']==well_name, curve].isnull().all()\n",
    "    \n",
    "for curve in curves:\n",
    "    locations_df[curve] = locations_df.apply(lambda row: well_has_curve(row, well_data_df, curve), axis=1)"
   ]
  },
  {
   "cell_type": "code",
   "execution_count": null,
   "metadata": {},
   "outputs": [],
   "source": [
    "# use Jupyter Dash to quickly build a prototype of the dash app right in this notebook\n",
    "# for production or more complicated use we'll use the webserver version\n",
    "app = JupyterDash(__name__)\n",
    "\n",
    "app.layout = html.Div([\n",
    "    html.H2(\"FORCE 2020 Well Data Map\"),\n",
    "    html.Label([\n",
    "        \"Selected wells must contain:\",\n",
    "        dcc.Dropdown(\n",
    "            id='curves-dropdown', clearable=False,\n",
    "            options=[\n",
    "                {'label': c, 'value': c}\n",
    "                for c in curves\n",
    "            ],\n",
    "            value=['GR'],\n",
    "            multi=True),\n",
    "        dcc.Checklist(\n",
    "            id='datasets-checkbox',\n",
    "        options=[\n",
    "            {'label': 'Training Data', 'value': 'Train'},\n",
    "            {'label': 'Test Data', 'value': 'Test'}\n",
    "            ],\n",
    "            value=['Train', 'Test']),  \n",
    "        dcc.Graph(id='map-plot'),\n",
    "        \n",
    "        # code-styled text area to display list of filtered well names\n",
    "        html.Code(id='selected-wells-output', style={'whiteSpace': 'pre-line'})\n",
    "    ]),   \n",
    "])"
   ]
  },
  {
   "cell_type": "code",
   "execution_count": null,
   "metadata": {},
   "outputs": [],
   "source": [
    "# Define callback to update graph\n",
    "@app.callback(\n",
    "    Output('map-plot', 'figure'),\n",
    "    [Input(\"curves-dropdown\", \"value\"),\n",
    "     Input('datasets-checkbox', 'value')]\n",
    ")\n",
    "def update_figure(curves, datasets):\n",
    "\n",
    "    curve_mask = locations_df[curves].values.all(axis=1)\n",
    "    dff = locations_df[curve_mask]\n",
    "    \n",
    "    dff = dff[dff['Dataset'].isin(datasets)]\n",
    "    \n",
    "    num_wells = dff.shape[0]\n",
    "    \n",
    "    # if the selection is empty, just display the map centered at the \n",
    "    # same location\n",
    "    if num_wells == 0:\n",
    "        fig = px.scatter_mapbox(lat=[59.610511], lon= [2.772594],\n",
    "                                center={'lat': 59.610511, 'lon': 2.772594},\n",
    "                                zoom=5, height=600,\n",
    "                                )\n",
    "\n",
    "    else:\n",
    "        fig = px.scatter_mapbox(dff, lat=\"lat\", lon=\"lon\",\n",
    "                                center={'lat': 59.610511, 'lon': 2.772594},\n",
    "                                color='Dataset',\n",
    "                                zoom=5, height=600,\n",
    "                                hover_data={'WELL': True,\n",
    "                                            'lat': False,\n",
    "                                            'lon': False,\n",
    "                                            'Dataset': False,\n",
    "                                            'Drilling Operator': True,\n",
    "                                            'Purpose': True,\n",
    "                                            'Completion Year': True,\n",
    "                                            'Formation': True},\n",
    "                                color_discrete_map={'Train': 'blue',\n",
    "                                                    'Test': 'red'}\n",
    "                                )\n",
    "\n",
    "    fig.update_layout(mapbox_style=\"open-street-map\")\n",
    "    fig.update_layout(margin={\"r\":40,\"t\":50,\"l\":40,\"b\":0})\n",
    "\n",
    "    return fig"
   ]
  },
  {
   "cell_type": "code",
   "execution_count": null,
   "metadata": {},
   "outputs": [],
   "source": [
    "@app.callback(\n",
    "    Output('selected-wells-output', 'children'),\n",
    "    [Input(\"curves-dropdown\", \"value\"),\n",
    "     Input('datasets-checkbox', 'value'),\n",
    "     Input('map-plot', 'selectedData')]\n",
    ")\n",
    "def update_output(curves, datasets, selected_items):\n",
    "    \n",
    "    # return the well names for all wells that match the criterion\n",
    "    curve_mask = locations_df[curves].values.all(axis=1)\n",
    "    dff = locations_df[curve_mask]\n",
    "    dff = dff[dff['Dataset'].isin(datasets)]\n",
    "    # now filter by wells that have been selected in the image.\n",
    "    all_wells = dff['WELL'] # initialize to all of the wells\n",
    "    lasso_wells = None\n",
    "    \n",
    "    # now iterate over selected items, and get the relevant point data\n",
    "    # need to do some checks to make sure valid data selected\n",
    "    if selected_items is not None:\n",
    "        for selected_item in [selected_items]:\n",
    "            if selected_item and selected_item['points']:\n",
    "                # get a list of the selected well names\n",
    "                lasso_wells = [p['customdata'][0] for p in selected_item['points']]\n",
    "   \n",
    "    select_mask = dff['WELL'].isin(lasso_wells if lasso_wells else all_wells)\n",
    "    dff = dff[select_mask]\n",
    "    \n",
    "    num_wells = dff.shape[0]\n",
    "    well_names = dff['WELL'].values\n",
    "\n",
    "    output_text = \"\\nYou have selected {} wells.\\n\\n\".format(num_wells)\n",
    "    well_list_text = \", \".join(\"'{}'\".format(well_name) for well_name in well_names)\n",
    "    well_list_text = \"selected_wells = [\"+well_list_text + \"]\"\n",
    "    return output_text + well_list_text"
   ]
  },
  {
   "cell_type": "code",
   "execution_count": null,
   "metadata": {
    "tags": []
   },
   "outputs": [],
   "source": [
    "app.run_server(mode='external')"
   ]
  },
  {
   "cell_type": "markdown",
   "metadata": {},
   "source": [
    "## References\n",
    "Bormann P., Aursand P., Dilib F., Dischington P., Manral S. (2020) 2020 FORCE Machine Learning Contest. https://github.com/bolgebrygg/Force-2020-Machine-Learning-competition"
   ]
  }
 ],
 "metadata": {
  "kernelspec": {
   "display_name": "analytics",
   "language": "python",
   "name": "analytics"
  },
  "language_info": {
   "codemirror_mode": {
    "name": "ipython",
    "version": 3
   },
   "file_extension": ".py",
   "mimetype": "text/x-python",
   "name": "python",
   "nbconvert_exporter": "python",
   "pygments_lexer": "ipython3",
   "version": "3.7.4"
  }
 },
 "nbformat": 4,
 "nbformat_minor": 2
}
