{
 "cells": [
  {
   "cell_type": "markdown",
   "metadata": {},
   "source": [
    "# Group Mapping"
   ]
  },
  {
   "cell_type": "code",
   "execution_count": null,
   "metadata": {},
   "outputs": [],
   "source": [
    "from IPython.display import display, HTML\n",
    "\n",
    "display(HTML(data=\"\"\"\n",
    "<style>\n",
    "    div#notebook-container    { width: 95%; }\n",
    "    div#menubar-container     { width: 65%; }\n",
    "    div#maintoolbar-container { width: 60%; }\n",
    "</style>\n",
    "\"\"\"))\n",
    "\n",
    "%matplotlib inline"
   ]
  },
  {
   "cell_type": "code",
   "execution_count": null,
   "metadata": {},
   "outputs": [],
   "source": [
    "import numpy as np\n",
    "import pandas as pd\n",
    "import os\n",
    "import matplotlib.pyplot as plt\n",
    "import re\n",
    "import hvplot.pandas\n",
    "from dotenv import load_dotenv\n",
    "load_dotenv()"
   ]
  },
  {
   "cell_type": "code",
   "execution_count": null,
   "metadata": {},
   "outputs": [],
   "source": [
    "data_path = os.environ.get(\"DATA_PATH\")\n",
    "df_train = pd.read_csv(data_path+\"/train.csv\", sep=';')\n",
    "df_clusters = pd.read_csv(data_path+\"/clusters_gmm.csv\", sep=',')\n",
    "wells = df_train['WELL'].unique()"
   ]
  },
  {
   "cell_type": "markdown",
   "metadata": {},
   "source": [
    "### Integrating cluster feature in training set"
   ]
  },
  {
   "cell_type": "code",
   "execution_count": null,
   "metadata": {},
   "outputs": [],
   "source": [
    "df_clusters = df_clusters[df_clusters.Dataset == 'Train']"
   ]
  },
  {
   "cell_type": "code",
   "execution_count": null,
   "metadata": {},
   "outputs": [],
   "source": [
    "clusters = df_clusters[['WELL', 'cluster']]"
   ]
  },
  {
   "cell_type": "code",
   "execution_count": null,
   "metadata": {},
   "outputs": [],
   "source": [
    "df_train_cluster = df_train.merge(clusters, how='left', on='WELL', validate='many_to_one')"
   ]
  },
  {
   "cell_type": "code",
   "execution_count": null,
   "metadata": {},
   "outputs": [],
   "source": [
    "df_train_cluster"
   ]
  },
  {
   "cell_type": "markdown",
   "metadata": {},
   "source": [
    "### Group Mapping"
   ]
  },
  {
   "cell_type": "code",
   "execution_count": null,
   "metadata": {},
   "outputs": [],
   "source": [
    "group_mapper = {'Utsira Fm.':'NORDLAND GP.',\n",
    "\n",
    " 'Skade Fm.':'HORDALAND GP.',\n",
    "\n",
    " 'Grid Mb.':'HORDALAND GP.',\n",
    "\n",
    " 'Frigg Fm.':'HORDALAND GP.',\n",
    "\n",
    " 'Balder Fm.':'HORDALAND GP.',\n",
    "\n",
    " 'Intra Balder Fm. Sst.':'HORDALAND GP.',\n",
    "\n",
    " 'Sele Fm.':'ROGALAND GP.',\n",
    "\n",
    " 'Hermod Mb.':'ROGALAND GP.',\n",
    "\n",
    " 'Lista Fm.':'ROGALAND GP.',\n",
    "\n",
    " 'Heimdal Fm.':'ROGALAND GP.',\n",
    "\n",
    " 'Vaale Fm.':'ROGALAND GP.',\n",
    "\n",
    " 'Ty Fm.':'ROGALAND GP.',\n",
    "\n",
    " 'Ekofisk Fm.':'ROGALAND GP.',\n",
    "\n",
    " 'Tor Fm.':'SHETLAND GP.',\n",
    "\n",
    " 'Jorsalfare Fm.':'SHETLAND GP.',\n",
    "\n",
    " 'Hardraade Fm.':'SHETLAND GP.',\n",
    "\n",
    " 'Hod Fm.':'SHETLAND GP.',\n",
    "\n",
    " 'Kyrre Fm.':'SHETLAND GP.',\n",
    "\n",
    " 'Tryggvason Fm.':'SHETLAND GP.',\n",
    "\n",
    " 'Blodoeks Fm.':'SHETLAND GP.',\n",
    "\n",
    " 'Svarte Fm.':'SHETLAND GP.',\n",
    "\n",
    " 'Hidra Fm.':'SHETLAND GP.',\n",
    "\n",
    " 'Agat Fm.':'SHETLAND GP.',\n",
    "\n",
    " 'Mime Fm.':'CROMER KNOLL GP.',\n",
    "\n",
    " 'Roedby Fm.':'CROMER KNOLL GP.',\n",
    "\n",
    " 'Sola Fm.':'CROMER KNOLL GP.',\n",
    "\n",
    " 'Ran Sst Mb.':'CROMER KNOLL GP.',\n",
    "\n",
    " 'Aasgard Fm.':'CROMER KNOLL GP.',\n",
    "\n",
    " 'Tuxen Fm.':'CROMER KNOLL GP.',\n",
    "\n",
    " 'Mandal Fm.':'VIKING GP.',\n",
    "\n",
    " 'Flekkefjord Fm.':'VIKING GP.',\n",
    "\n",
    " 'Draupne Fm.':'VESTLAND GP.',\n",
    "\n",
    " 'Intra Draupne Fm. Sst.':'VESTLAND GP.',\n",
    "\n",
    " 'Farsund Fm.':'VESTLAND GP.',\n",
    "\n",
    " 'Ula Fm.':'VESTLAND GP.',\n",
    "\n",
    " 'Sauda Fm.':'VESTLAND GP.',\n",
    "\n",
    " 'Tau Fm.':'VESTLAND GP.',\n",
    "\n",
    " 'Egersund Fm.':'VESTLAND GP.',\n",
    "\n",
    " 'Sandnes Fm.':'VESTLAND GP.',\n",
    "\n",
    " 'Hugin Fm.':'VESTLAND GP.',\n",
    "\n",
    " 'Heather Fm.':'VESTLAND GP.',\n",
    "\n",
    " 'Intra Heather Fm. Sst.':'VESTLAND GP.',\n",
    "\n",
    " 'Sognefjord Fm.':'VESTLAND GP.',\n",
    "\n",
    " 'Fensfjord Fm.':'VESTLAND GP.',\n",
    "\n",
    " 'Krossfjord Fm.':'VESTLAND GP.',\n",
    "\n",
    " 'Bryne Fm.':'VESTLAND GP.',\n",
    "\n",
    " 'Sleipner Fm.':'VESTLAND GP.',\n",
    "\n",
    " 'Tarbert Fm.':'VESTLAND GP.',\n",
    "\n",
    " 'Ness Fm.':'VESTLAND GP.',\n",
    "\n",
    " 'Etive Fm.':'DUNLIN GP.',\n",
    "\n",
    " 'Rannoch Fm.':'DUNLIN GP.',\n",
    "\n",
    " 'Broom Fm.':'DUNLIN GP.',\n",
    "\n",
    " 'Oseberg Fm.':'DUNLIN GP.',\n",
    "\n",
    " 'Drake Fm.':'DUNLIN GP.',\n",
    "\n",
    " 'Cook Fm.':'DUNLIN GP.',\n",
    "\n",
    " 'Burton Fm.':'DUNLIN GP.',\n",
    "\n",
    " 'Amundsen Fm.':'DUNLIN GP.',\n",
    "\n",
    " 'Johansen Fm.':'DUNLIN GP.',\n",
    "\n",
    " 'Statfjord Fm.':'HEGRE GP.',\n",
    "\n",
    " 'Skagerrak Fm.':'HEGRE GP.',\n",
    "\n",
    " 'Lunde Fm.':'HEGRE GP.',\n",
    "\n",
    " 'Smith Bank Fm.':'HEGRE GP.',\n",
    "\n",
    " 'Eiriksson Mb.':'HEGRE GP.',\n",
    "\n",
    " 'Raude Mb.':'HEGRE GP.',\n",
    "\n",
    " 'Kupferschiefer Fm.':'ZECHSTEIN GP.',\n",
    "\n",
    " 'BASEMENT':'not stratigraphic',\n",
    "\n",
    " }\n",
    "group_mapper"
   ]
  },
  {
   "cell_type": "code",
   "execution_count": null,
   "metadata": {},
   "outputs": [],
   "source": [
    "df_train_cluster['NEW GROUP'] = [group_mapper[fm] if group_mapper.get(fm) is not None else np.nan for fm in df_train_cluster.FORMATION]"
   ]
  },
  {
   "cell_type": "code",
   "execution_count": null,
   "metadata": {},
   "outputs": [],
   "source": [
    "df_train_cluster"
   ]
  },
  {
   "cell_type": "code",
   "execution_count": null,
   "metadata": {},
   "outputs": [],
   "source": [
    "d = {}\n",
    "for i, v in group_mapper.items():\n",
    "    d[v] = [i] if v not in d.keys() else d[v] + [i]\n",
    "print(d)"
   ]
  },
  {
   "cell_type": "code",
   "execution_count": null,
   "metadata": {},
   "outputs": [],
   "source": [
    "group_mapper.items()"
   ]
  },
  {
   "cell_type": "code",
   "execution_count": null,
   "metadata": {},
   "outputs": [],
   "source": [
    "reversed_group_mapper = {value : key for (key, value) in group_mapper.items()}\n",
    "reversed_group_mapper"
   ]
  }
 ],
 "metadata": {
  "kernelspec": {
   "display_name": "analytics",
   "language": "python",
   "name": "analytics"
  },
  "language_info": {
   "codemirror_mode": {
    "name": "ipython",
    "version": 3
   },
   "file_extension": ".py",
   "mimetype": "text/x-python",
   "name": "python",
   "nbconvert_exporter": "python",
   "pygments_lexer": "ipython3",
   "version": "3.7.4"
  }
 },
 "nbformat": 4,
 "nbformat_minor": 4
}
