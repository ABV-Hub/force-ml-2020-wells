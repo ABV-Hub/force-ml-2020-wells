{
 "cells": [
  {
   "cell_type": "markdown",
   "metadata": {},
   "source": [
    "# Vsh"
   ]
  },
  {
   "cell_type": "code",
   "execution_count": null,
   "metadata": {},
   "outputs": [],
   "source": [
    "from IPython.display import display, HTML\n",
    "\n",
    "display(HTML(data=\"\"\"\n",
    "<style>\n",
    "    div#notebook-container    { width: 95%; }\n",
    "    div#menubar-container     { width: 65%; }\n",
    "    div#maintoolbar-container { width: 60%; }\n",
    "</style>\n",
    "\"\"\"))\n",
    "\n",
    "%matplotlib inline"
   ]
  },
  {
   "cell_type": "code",
   "execution_count": null,
   "metadata": {},
   "outputs": [],
   "source": [
    "import numpy as np\n",
    "import pandas as pd\n",
    "import os\n",
    "import matplotlib.pyplot as plt\n",
    "import re\n",
    "import hvplot.pandas\n",
    "from dotenv import load_dotenv\n",
    "load_dotenv()"
   ]
  },
  {
   "cell_type": "code",
   "execution_count": null,
   "metadata": {},
   "outputs": [],
   "source": [
    "data_path = os.environ.get(\"DATA_PATH\")\n",
    "df_train = pd.read_csv(data_path+\"/train.csv\", sep=';')\n",
    "df_clusters = pd.read_csv(data_path+\"/clusters_gmm.csv\", sep=',')\n",
    "wells = df_train['WELL'].unique()"
   ]
  },
  {
   "cell_type": "markdown",
   "metadata": {},
   "source": [
    "### Integrating cluster feature in training set"
   ]
  },
  {
   "cell_type": "code",
   "execution_count": null,
   "metadata": {},
   "outputs": [],
   "source": [
    "df_clusters = df_clusters[df_clusters.Dataset == 'Train']"
   ]
  },
  {
   "cell_type": "code",
   "execution_count": null,
   "metadata": {},
   "outputs": [],
   "source": [
    "clusters = df_clusters[['WELL', 'cluster']]"
   ]
  },
  {
   "cell_type": "code",
   "execution_count": null,
   "metadata": {},
   "outputs": [],
   "source": [
    "df_train_cluster = df_train.merge(clusters, how='left', on='WELL', validate='many_to_one')"
   ]
  },
  {
   "cell_type": "code",
   "execution_count": null,
   "metadata": {},
   "outputs": [],
   "source": [
    "df_train_cluster"
   ]
  },
  {
   "cell_type": "markdown",
   "metadata": {},
   "source": [
    "### GR distribution across the clusters"
   ]
  },
  {
   "cell_type": "code",
   "execution_count": null,
   "metadata": {},
   "outputs": [],
   "source": [
    "boxplot = df_train_cluster.hvplot.box(y='GR', by='cluster', height=800, width=800, legend=True)\n",
    "boxplot"
   ]
  },
  {
   "cell_type": "code",
   "execution_count": null,
   "metadata": {},
   "outputs": [],
   "source": [
    "#boxplot = df_train_cluster.hvplot.box(y='GR', groupby='cluster', height=800, width=800, legend=True)\n",
    "boxplot = df_train_cluster.hvplot.box(y='GR', height=800, width=800, legend=True)\n",
    "boxplot"
   ]
  },
  {
   "cell_type": "markdown",
   "metadata": {},
   "source": [
    "### Vsh per well - GR-based"
   ]
  },
  {
   "cell_type": "code",
   "execution_count": null,
   "metadata": {},
   "outputs": [],
   "source": [
    "GRmin = []\n",
    "GRmax = []\n",
    "for well in wells:\n",
    "    GRmin.append(df_train_cluster.loc[df_train_cluster['WELL']==well].GR.describe(percentiles=[0.1, 0.9]).loc['10%'])\n",
    "    GRmax.append(df_train_cluster.loc[df_train_cluster['WELL']==well].GR.describe(percentiles=[0.1, 0.9]).loc['90%'])\n",
    "wells_list = list(wells)\n",
    "d = {'WELL': wells_list, 'GRmin': GRmin, 'GRmax': GRmax}\n",
    "df_GRmin_GRmax = pd.DataFrame.from_dict(d)\n",
    "df_train_cluster = df_train_cluster.merge(df_GRmin_GRmax, how='left', on='WELL', validate='many_to_one')\n",
    "df_train_cluster['Vsh_linear'] = (df_train_cluster['GR']-df_train_cluster['GRmin'])/(df_train_cluster['GRmax']-df_train_cluster['GRmin'])\n",
    "df_train_cluster['Vsh_Stieber'] = df_train_cluster['Vsh_linear']/(3.0 - (2.0*df_train_cluster['Vsh_linear']))\n",
    "df_train_cluster['Vsh_Clavier'] = 1.7-(3.38-(df_train_cluster['Vsh_linear']+0.7)**2)**0.5"
   ]
  },
  {
   "cell_type": "markdown",
   "metadata": {},
   "source": [
    "### Vsh - RHOB-NPHI-based"
   ]
  },
  {
   "cell_type": "code",
   "execution_count": null,
   "metadata": {},
   "outputs": [],
   "source": [
    "NPHIshale = 0.3\n",
    "PORshale = 0.15\n",
    "df_train_cluster['RHOBpor'] = (2.65 - df_train_cluster['RHOB'])/1.65\n",
    "df_train_cluster['Vsh_DN'] = (df_train_cluster['NPHI'] - df_train_cluster['RHOBpor'])/(NPHIshale - PORshale)"
   ]
  },
  {
   "cell_type": "markdown",
   "metadata": {},
   "source": [
    "### Vsh per group - GR-based"
   ]
  },
  {
   "cell_type": "code",
   "execution_count": null,
   "metadata": {},
   "outputs": [],
   "source": [
    "GRmin_group = []\n",
    "GRmax_group = []\n",
    "groups = df_train_cluster['GROUP'].unique()\n",
    "for group in groups:\n",
    "    GRmin_group.append(df_train_cluster.loc[df_train_cluster['GROUP']==group].GR.describe(percentiles=[0.1, 0.9]).loc['10%'])\n",
    "    GRmax_group.append(df_train_cluster.loc[df_train_cluster['GROUP']==group].GR.describe(percentiles=[0.1, 0.9]).loc['90%'])\n",
    "group_list = list(groups)\n",
    "d = {'GROUP': group_list, 'GRmin_GROUP': GRmin_group, 'GRmax_GROUP': GRmax_group}\n",
    "df_GRmin_GRmax_group = pd.DataFrame.from_dict(d)\n",
    "df_train_cluster = df_train_cluster.merge(df_GRmin_GRmax_group, how='left', on='GROUP', validate='many_to_one')\n",
    "df_train_cluster['Vsh_linear_GROUP'] = (df_train_cluster['GR']-df_train_cluster['GRmin_GROUP'])/(df_train_cluster['GRmax_GROUP']-df_train_cluster['GRmin_GROUP'])\n",
    "df_train_cluster['Vsh_Stieber_GROUP'] = df_train_cluster['Vsh_linear_GROUP']/(3.0 - (2.0*df_train_cluster['Vsh_linear_GROUP']))\n",
    "df_train_cluster['Vsh_Clavier_GROUP'] = 1.7-(3.38-(df_train_cluster['Vsh_linear_GROUP']+0.7)**2)**0.5"
   ]
  },
  {
   "cell_type": "code",
   "execution_count": null,
   "metadata": {},
   "outputs": [],
   "source": [
    "df_train_cluster"
   ]
  },
  {
   "cell_type": "code",
   "execution_count": null,
   "metadata": {},
   "outputs": [],
   "source": [
    "df_train_cluster.hvplot.scatter(x='GR', y=['Vsh_linear', 'Vsh_Stieber', 'Vsh_Clavier'], groupby='WELL',\n",
    "                value_label='Vsh', xlim=(0,200), ylim=(0,1), legend='top', height=800, width=800)"
   ]
  }
 ],
 "metadata": {
  "kernelspec": {
   "display_name": "analytics",
   "language": "python",
   "name": "analytics"
  },
  "language_info": {
   "codemirror_mode": {
    "name": "ipython",
    "version": 3
   },
   "file_extension": ".py",
   "mimetype": "text/x-python",
   "name": "python",
   "nbconvert_exporter": "python",
   "pygments_lexer": "ipython3",
   "version": "3.7.4"
  }
 },
 "nbformat": 4,
 "nbformat_minor": 4
}
