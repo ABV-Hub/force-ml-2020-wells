{
 "cells": [
  {
   "cell_type": "markdown",
   "metadata": {},
   "source": [
    "# Cleaning FORMATION feature"
   ]
  },
  {
   "cell_type": "code",
   "execution_count": 1,
   "metadata": {},
   "outputs": [
    {
     "data": {
      "text/plain": [
       "True"
      ]
     },
     "execution_count": 1,
     "metadata": {},
     "output_type": "execute_result"
    }
   ],
   "source": [
    "import numpy as np\n",
    "import pandas as pd\n",
    "import os\n",
    "import matplotlib.pyplot as plt\n",
    "import re\n",
    "from dotenv import load_dotenv\n",
    "load_dotenv()"
   ]
  },
  {
   "cell_type": "code",
   "execution_count": 2,
   "metadata": {},
   "outputs": [],
   "source": [
    "data_path = os.environ.get(\"DATA_PATH\")\n",
    "df_train = pd.read_csv(data_path+\"/train.csv\", sep=';')"
   ]
  },
  {
   "cell_type": "code",
   "execution_count": 3,
   "metadata": {},
   "outputs": [
    {
     "data": {
      "text/html": [
       "<div>\n",
       "<style scoped>\n",
       "    .dataframe tbody tr th:only-of-type {\n",
       "        vertical-align: middle;\n",
       "    }\n",
       "\n",
       "    .dataframe tbody tr th {\n",
       "        vertical-align: top;\n",
       "    }\n",
       "\n",
       "    .dataframe thead th {\n",
       "        text-align: right;\n",
       "    }\n",
       "</style>\n",
       "<table border=\"1\" class=\"dataframe\">\n",
       "  <thead>\n",
       "    <tr style=\"text-align: right;\">\n",
       "      <th></th>\n",
       "      <th>WELL</th>\n",
       "      <th>DEPTH_MD</th>\n",
       "      <th>X_LOC</th>\n",
       "      <th>Y_LOC</th>\n",
       "      <th>Z_LOC</th>\n",
       "      <th>GROUP</th>\n",
       "      <th>FORMATION</th>\n",
       "      <th>CALI</th>\n",
       "      <th>RSHA</th>\n",
       "      <th>RMED</th>\n",
       "      <th>...</th>\n",
       "      <th>ROP</th>\n",
       "      <th>DTS</th>\n",
       "      <th>DCAL</th>\n",
       "      <th>DRHO</th>\n",
       "      <th>MUDWEIGHT</th>\n",
       "      <th>RMIC</th>\n",
       "      <th>ROPA</th>\n",
       "      <th>RXO</th>\n",
       "      <th>FORCE_2020_LITHOFACIES_LITHOLOGY</th>\n",
       "      <th>FORCE_2020_LITHOFACIES_CONFIDENCE</th>\n",
       "    </tr>\n",
       "  </thead>\n",
       "  <tbody>\n",
       "    <tr>\n",
       "      <th>0</th>\n",
       "      <td>15/9-13</td>\n",
       "      <td>494.528</td>\n",
       "      <td>437641.96875</td>\n",
       "      <td>6470972.5</td>\n",
       "      <td>-469.501831</td>\n",
       "      <td>NORDLAND GP.</td>\n",
       "      <td>NaN</td>\n",
       "      <td>19.480835</td>\n",
       "      <td>NaN</td>\n",
       "      <td>1.611410</td>\n",
       "      <td>...</td>\n",
       "      <td>34.636410</td>\n",
       "      <td>NaN</td>\n",
       "      <td>NaN</td>\n",
       "      <td>-0.574928</td>\n",
       "      <td>NaN</td>\n",
       "      <td>NaN</td>\n",
       "      <td>NaN</td>\n",
       "      <td>NaN</td>\n",
       "      <td>65000</td>\n",
       "      <td>1.0</td>\n",
       "    </tr>\n",
       "    <tr>\n",
       "      <th>1</th>\n",
       "      <td>15/9-13</td>\n",
       "      <td>494.680</td>\n",
       "      <td>437641.96875</td>\n",
       "      <td>6470972.5</td>\n",
       "      <td>-469.653809</td>\n",
       "      <td>NORDLAND GP.</td>\n",
       "      <td>NaN</td>\n",
       "      <td>19.468800</td>\n",
       "      <td>NaN</td>\n",
       "      <td>1.618070</td>\n",
       "      <td>...</td>\n",
       "      <td>34.636410</td>\n",
       "      <td>NaN</td>\n",
       "      <td>NaN</td>\n",
       "      <td>-0.570188</td>\n",
       "      <td>NaN</td>\n",
       "      <td>NaN</td>\n",
       "      <td>NaN</td>\n",
       "      <td>NaN</td>\n",
       "      <td>65000</td>\n",
       "      <td>1.0</td>\n",
       "    </tr>\n",
       "    <tr>\n",
       "      <th>2</th>\n",
       "      <td>15/9-13</td>\n",
       "      <td>494.832</td>\n",
       "      <td>437641.96875</td>\n",
       "      <td>6470972.5</td>\n",
       "      <td>-469.805786</td>\n",
       "      <td>NORDLAND GP.</td>\n",
       "      <td>NaN</td>\n",
       "      <td>19.468800</td>\n",
       "      <td>NaN</td>\n",
       "      <td>1.626459</td>\n",
       "      <td>...</td>\n",
       "      <td>34.779556</td>\n",
       "      <td>NaN</td>\n",
       "      <td>NaN</td>\n",
       "      <td>-0.574245</td>\n",
       "      <td>NaN</td>\n",
       "      <td>NaN</td>\n",
       "      <td>NaN</td>\n",
       "      <td>NaN</td>\n",
       "      <td>65000</td>\n",
       "      <td>1.0</td>\n",
       "    </tr>\n",
       "    <tr>\n",
       "      <th>3</th>\n",
       "      <td>15/9-13</td>\n",
       "      <td>494.984</td>\n",
       "      <td>437641.96875</td>\n",
       "      <td>6470972.5</td>\n",
       "      <td>-469.957794</td>\n",
       "      <td>NORDLAND GP.</td>\n",
       "      <td>NaN</td>\n",
       "      <td>19.459282</td>\n",
       "      <td>NaN</td>\n",
       "      <td>1.621594</td>\n",
       "      <td>...</td>\n",
       "      <td>39.965164</td>\n",
       "      <td>NaN</td>\n",
       "      <td>NaN</td>\n",
       "      <td>-0.586315</td>\n",
       "      <td>NaN</td>\n",
       "      <td>NaN</td>\n",
       "      <td>NaN</td>\n",
       "      <td>NaN</td>\n",
       "      <td>65000</td>\n",
       "      <td>1.0</td>\n",
       "    </tr>\n",
       "    <tr>\n",
       "      <th>4</th>\n",
       "      <td>15/9-13</td>\n",
       "      <td>495.136</td>\n",
       "      <td>437641.96875</td>\n",
       "      <td>6470972.5</td>\n",
       "      <td>-470.109772</td>\n",
       "      <td>NORDLAND GP.</td>\n",
       "      <td>NaN</td>\n",
       "      <td>19.453100</td>\n",
       "      <td>NaN</td>\n",
       "      <td>1.602679</td>\n",
       "      <td>...</td>\n",
       "      <td>57.483765</td>\n",
       "      <td>NaN</td>\n",
       "      <td>NaN</td>\n",
       "      <td>-0.597914</td>\n",
       "      <td>NaN</td>\n",
       "      <td>NaN</td>\n",
       "      <td>NaN</td>\n",
       "      <td>NaN</td>\n",
       "      <td>65000</td>\n",
       "      <td>1.0</td>\n",
       "    </tr>\n",
       "  </tbody>\n",
       "</table>\n",
       "<p>5 rows × 29 columns</p>\n",
       "</div>"
      ],
      "text/plain": [
       "      WELL  DEPTH_MD         X_LOC      Y_LOC       Z_LOC         GROUP  \\\n",
       "0  15/9-13   494.528  437641.96875  6470972.5 -469.501831  NORDLAND GP.   \n",
       "1  15/9-13   494.680  437641.96875  6470972.5 -469.653809  NORDLAND GP.   \n",
       "2  15/9-13   494.832  437641.96875  6470972.5 -469.805786  NORDLAND GP.   \n",
       "3  15/9-13   494.984  437641.96875  6470972.5 -469.957794  NORDLAND GP.   \n",
       "4  15/9-13   495.136  437641.96875  6470972.5 -470.109772  NORDLAND GP.   \n",
       "\n",
       "  FORMATION       CALI  RSHA      RMED  ...        ROP  DTS  DCAL      DRHO  \\\n",
       "0       NaN  19.480835   NaN  1.611410  ...  34.636410  NaN   NaN -0.574928   \n",
       "1       NaN  19.468800   NaN  1.618070  ...  34.636410  NaN   NaN -0.570188   \n",
       "2       NaN  19.468800   NaN  1.626459  ...  34.779556  NaN   NaN -0.574245   \n",
       "3       NaN  19.459282   NaN  1.621594  ...  39.965164  NaN   NaN -0.586315   \n",
       "4       NaN  19.453100   NaN  1.602679  ...  57.483765  NaN   NaN -0.597914   \n",
       "\n",
       "   MUDWEIGHT  RMIC  ROPA  RXO  FORCE_2020_LITHOFACIES_LITHOLOGY  \\\n",
       "0        NaN   NaN   NaN  NaN                             65000   \n",
       "1        NaN   NaN   NaN  NaN                             65000   \n",
       "2        NaN   NaN   NaN  NaN                             65000   \n",
       "3        NaN   NaN   NaN  NaN                             65000   \n",
       "4        NaN   NaN   NaN  NaN                             65000   \n",
       "\n",
       "   FORCE_2020_LITHOFACIES_CONFIDENCE  \n",
       "0                                1.0  \n",
       "1                                1.0  \n",
       "2                                1.0  \n",
       "3                                1.0  \n",
       "4                                1.0  \n",
       "\n",
       "[5 rows x 29 columns]"
      ]
     },
     "execution_count": 3,
     "metadata": {},
     "output_type": "execute_result"
    }
   ],
   "source": [
    "df_train.head()"
   ]
  },
  {
   "cell_type": "code",
   "execution_count": 4,
   "metadata": {},
   "outputs": [
    {
     "data": {
      "text/plain": [
       "array([nan, 'Utsira Fm.', 'Balder Fm.', 'Sele Fm.', 'Lista Fm.',\n",
       "       'Heimdal Fm.', 'Tor Fm.', 'Hod Fm.', 'Blodoeks Fm.', 'Svarte Fm.',\n",
       "       'Roedby Fm.', 'Sola Fm.', 'Aasgard Fm.', 'Draupne Fm.',\n",
       "       'Heather Fm.', 'Hugin Fm.', 'Smith Bank Fm.', 'Frigg Fm.',\n",
       "       'Skagerrak Fm.', 'Ekofisk Fm.', 'Kupferschiefer Fm.', 'Skade Fm.',\n",
       "       'Grid Fm.', 'Vaale Fm.', 'Sleipner Fm.', 'Hidra Fm.', 'Tuxen Fm.',\n",
       "       'Mandal Fm.', 'Ula Fm.', 'Bryne Fm.', 'Tau Fm.', 'Sandnes Fm.',\n",
       "       'Intra Draupne Fm. Sst.', 'Statfjord Fm.', 'Skade Mb.', 'BASEMENT',\n",
       "       'Ran Sst Mb.', 'Flekkefjord Fm.', 'Sauda Fm.', 'Egersund Fm.',\n",
       "       'Intra Balder Fm. Sst.', 'Hermod Mb.', 'Ty Fm.', 'Hardraade Fm.',\n",
       "       'Kyrre Fm.', 'Tryggvason Fm.', 'Drake Fm.', 'Cook Fm.',\n",
       "       'Amundsen Fm.', 'Grid Mb.', 'Ty Mb.', 'Jorsalfare Fm.',\n",
       "       'Burton Fm.', 'Mime Fm.', 'Intra Heather Fm. Sst.', 'Tarbert Fm.',\n",
       "       'Ness Fm.', 'Etive Fm.', 'Rannoch Fm.', 'Broom Fm.', 'Lunde Fm.',\n",
       "       'Oseberg Fm.', 'Sognefjord Fm.', 'Fensfjord Fm.', 'Krossfjord Fm.',\n",
       "       'Johansen Fm.', 'Eiriksson Mb.', 'Raude Mb.', 'Agat Fm.',\n",
       "       'Farsund Fm.'], dtype=object)"
      ]
     },
     "execution_count": 4,
     "metadata": {},
     "output_type": "execute_result"
    }
   ],
   "source": [
    "df_train['FORMATION'].unique()"
   ]
  },
  {
   "cell_type": "code",
   "execution_count": 5,
   "metadata": {},
   "outputs": [
    {
     "data": {
      "text/plain": [
       "320524    Ty Mb.\n",
       "320525    Ty Mb.\n",
       "320526    Ty Mb.\n",
       "320527    Ty Mb.\n",
       "320528    Ty Mb.\n",
       "           ...  \n",
       "418252    Ty Mb.\n",
       "418253    Ty Mb.\n",
       "418254    Ty Mb.\n",
       "418255    Ty Mb.\n",
       "418256    Ty Mb.\n",
       "Name: FORMATION, Length: 1171, dtype: object"
      ]
     },
     "execution_count": 5,
     "metadata": {},
     "output_type": "execute_result"
    }
   ],
   "source": [
    "# String to be searched in start of string  \n",
    "search =\"Ty Mb\"\n",
    "  \n",
    "# boolean series returned \n",
    "df_train[\"FORMATION\"].loc[df_train[\"FORMATION\"].str.startswith(search, na=False)]"
   ]
  },
  {
   "cell_type": "code",
   "execution_count": 22,
   "metadata": {},
   "outputs": [],
   "source": [
    "df_train_copy = df_train.copy()"
   ]
  },
  {
   "cell_type": "code",
   "execution_count": 25,
   "metadata": {},
   "outputs": [],
   "source": [
    "df_train_copy = df_train_copy.replace({'FORMATION': {'Skade Mb.': 'Skade Fm.', 'Grid Mb.': 'Grid Fm.', 'Ty Mb.': 'Ty Fm.'}})"
   ]
  },
  {
   "cell_type": "code",
   "execution_count": 26,
   "metadata": {},
   "outputs": [
    {
     "data": {
      "text/plain": [
       "array([nan, 'Utsira Fm.', 'Balder Fm.', 'Sele Fm.', 'Lista Fm.',\n",
       "       'Heimdal Fm.', 'Tor Fm.', 'Hod Fm.', 'Blodoeks Fm.', 'Svarte Fm.',\n",
       "       'Roedby Fm.', 'Sola Fm.', 'Aasgard Fm.', 'Draupne Fm.',\n",
       "       'Heather Fm.', 'Hugin Fm.', 'Smith Bank Fm.', 'Frigg Fm.',\n",
       "       'Skagerrak Fm.', 'Ekofisk Fm.', 'Kupferschiefer Fm.', 'Skade Fm.',\n",
       "       'Grid Fm.', 'Vaale Fm.', 'Sleipner Fm.', 'Hidra Fm.', 'Tuxen Fm.',\n",
       "       'Mandal Fm.', 'Ula Fm.', 'Bryne Fm.', 'Tau Fm.', 'Sandnes Fm.',\n",
       "       'Intra Draupne Fm. Sst.', 'Statfjord Fm.', 'BASEMENT',\n",
       "       'Ran Sst Mb.', 'Flekkefjord Fm.', 'Sauda Fm.', 'Egersund Fm.',\n",
       "       'Intra Balder Fm. Sst.', 'Hermod Mb.', 'Ty Fm.', 'Hardraade Fm.',\n",
       "       'Kyrre Fm.', 'Tryggvason Fm.', 'Drake Fm.', 'Cook Fm.',\n",
       "       'Amundsen Fm.', 'Jorsalfare Fm.', 'Burton Fm.', 'Mime Fm.',\n",
       "       'Intra Heather Fm. Sst.', 'Tarbert Fm.', 'Ness Fm.', 'Etive Fm.',\n",
       "       'Rannoch Fm.', 'Broom Fm.', 'Lunde Fm.', 'Oseberg Fm.',\n",
       "       'Sognefjord Fm.', 'Fensfjord Fm.', 'Krossfjord Fm.',\n",
       "       'Johansen Fm.', 'Eiriksson Mb.', 'Raude Mb.', 'Agat Fm.',\n",
       "       'Farsund Fm.'], dtype=object)"
      ]
     },
     "execution_count": 26,
     "metadata": {},
     "output_type": "execute_result"
    }
   ],
   "source": [
    "df_train_copy['FORMATION'].unique()"
   ]
  }
 ],
 "metadata": {
  "kernelspec": {
   "display_name": "analytics",
   "language": "python",
   "name": "analytics"
  },
  "language_info": {
   "codemirror_mode": {
    "name": "ipython",
    "version": 3
   },
   "file_extension": ".py",
   "mimetype": "text/x-python",
   "name": "python",
   "nbconvert_exporter": "python",
   "pygments_lexer": "ipython3",
   "version": "3.7.4"
  }
 },
 "nbformat": 4,
 "nbformat_minor": 4
}
